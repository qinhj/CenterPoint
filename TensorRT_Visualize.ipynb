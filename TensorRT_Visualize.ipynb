{
 "cells": [
  {
   "cell_type": "code",
   "execution_count": 1,
   "id": "777b8e68",
   "metadata": {},
   "outputs": [
    {
     "name": "stdout",
     "output_type": "stream",
     "text": [
      "No APEX!\n",
      "No Tensorflow\n",
      "Deformable Convolution not built!\n",
      "No APEX!\n"
     ]
    }
   ],
   "source": [
    "import argparse\n",
    "import copy\n",
    "import json\n",
    "import os\n",
    "import sys\n",
    "\n",
    "try:\n",
    "    import apex\n",
    "except:\n",
    "    print(\"No APEX!\")\n",
    "import numpy as np\n",
    "import torch\n",
    "from torch import nn\n",
    "import yaml\n",
    "from det3d import torchie\n",
    "from det3d.datasets import build_dataloader, build_dataset\n",
    "from det3d.models import build_detector\n",
    "from det3d.torchie import Config\n",
    "from det3d.torchie.apis import (\n",
    "    batch_processor,\n",
    "    build_optimizer,\n",
    "    get_root_logger,\n",
    "    init_dist,\n",
    "    set_random_seed,\n",
    "    train_detector,\n",
    "    example_to_device,\n",
    ")\n",
    "from det3d.torchie.trainer import load_checkpoint\n",
    "import pickle \n",
    "import time \n",
    "from matplotlib import pyplot as plt \n",
    "from det3d.torchie.parallel import collate, collate_kitti\n",
    "from torch.utils.data import DataLoader\n",
    "import matplotlib.cm as cm\n",
    "import subprocess\n",
    "import cv2\n",
    "from tools.demo_utils import visual \n",
    "from collections import defaultdict\n",
    "\n",
    "import glob"
   ]
  },
  {
   "cell_type": "code",
   "execution_count": 2,
   "id": "2b4efa9f",
   "metadata": {},
   "outputs": [],
   "source": [
    "def convert_box(info):\n",
    "    boxes =  info[\"gt_boxes\"].astype(np.float32)\n",
    "    names = info[\"gt_names\"]\n",
    "\n",
    "    assert len(boxes) == len(names)\n",
    "\n",
    "    detection = {}\n",
    "\n",
    "    detection['box3d_lidar'] = boxes\n",
    "\n",
    "    # dummy value \n",
    "    detection['label_preds'] = np.zeros(len(boxes)) \n",
    "    detection['scores'] = np.ones(len(boxes))\n",
    "\n",
    "    return detection"
   ]
  },
  {
   "cell_type": "code",
   "execution_count": 3,
   "id": "36357bc5",
   "metadata": {},
   "outputs": [
    {
     "name": "stdout",
     "output_type": "stream",
     "text": [
      "Use HM Bias:  -2.19\n",
      "10\n"
     ]
    }
   ],
   "source": [
    "cfg = Config.fromfile('configs/nusc/pp/nusc_centerpoint_pp_02voxel_two_pfn_10sweep_demo.py')\n",
    "\n",
    "model = build_detector(cfg.model, train_cfg=None, test_cfg=cfg.test_cfg)\n",
    "\n",
    "dataset = build_dataset(cfg.data.val)\n",
    "\n",
    "data_loader = DataLoader(\n",
    "    dataset,\n",
    "    batch_size=1,\n",
    "    sampler=None,\n",
    "    shuffle=False,\n",
    "    num_workers=8,\n",
    "    collate_fn=collate_kitti,\n",
    "    pin_memory=False,\n",
    ")\n",
    "\n",
    "checkpoint = load_checkpoint(model, './latest.pth', map_location=\"cpu\")\n",
    "model.eval()\n",
    "\n",
    "model = model.cuda()\n",
    "\n",
    "gpu_device = torch.device(\"cuda\")\n",
    "\n",
    "points_list = [] \n",
    "gt_annos = [] \n",
    "detections  = [] \n",
    "\n",
    "data_iter = iter(data_loader)\n"
   ]
  },
  {
   "cell_type": "code",
   "execution_count": 4,
   "id": "22eecd4a",
   "metadata": {},
   "outputs": [],
   "source": [
    "data_batch = next(data_iter)"
   ]
  },
  {
   "cell_type": "code",
   "execution_count": 5,
   "id": "eb91956b",
   "metadata": {},
   "outputs": [],
   "source": [
    "# save the input points for tensorrt\n",
    "data_batch[\"points\"].cpu().numpy()[:,1:].astype(np.float32).tofile(\"./tensorrt/data/centerpoint/points.bin\")"
   ]
  },
  {
   "cell_type": "code",
   "execution_count": 6,
   "id": "8650390d",
   "metadata": {},
   "outputs": [],
   "source": [
    "example = example_to_device(data_batch, gpu_device, non_blocking=False)"
   ]
  },
  {
   "cell_type": "markdown",
   "id": "c463c164",
   "metadata": {},
   "source": [
    "# Visualize Pytorch Results"
   ]
  },
  {
   "cell_type": "code",
   "execution_count": 7,
   "id": "4921d572",
   "metadata": {},
   "outputs": [],
   "source": [
    "# do inference by pytroch and visualiza the results to \"demo/torch_demo\"\n",
    "outputs = model(example, return_loss=False)"
   ]
  },
  {
   "cell_type": "code",
   "execution_count": 8,
   "id": "90a53fc4",
   "metadata": {
    "scrolled": true
   },
   "outputs": [
    {
     "name": "stdout",
     "output_type": "stream",
     "text": [
      "Done model inference. Please wait a minute, the matplotlib is a little slow...\n",
      "Rendered Image 0\n"
     ]
    }
   ],
   "source": [
    "gt_annos = [] \n",
    "detections  = []\n",
    "points_list = []\n",
    "cpu_device = torch.device(\"cpu\")\n",
    "i = 0\n",
    "info = dataset._nusc_infos[i]\n",
    "gt_annos.append(convert_box(info))\n",
    "\n",
    "points = data_batch['points'][:, 1:4].cpu().numpy()\n",
    "for output in outputs:\n",
    "    for k, v in output.items():\n",
    "        if k not in [\n",
    "            \"metadata\",\n",
    "        ]:\n",
    "            output[k] = v.to(cpu_device)\n",
    "    detections.append(output)\n",
    "\n",
    "points_list.append(points.T)\n",
    "\n",
    "print('Done model inference. Please wait a minute, the matplotlib is a little slow...')\n",
    "\n",
    "for i in range(len(points_list)):\n",
    "    visual(points_list[i], gt_annos[i], detections[i], i, save_path=\"demo/torch_demo\")\n",
    "    print(\"Rendered Image {}\".format(i))"
   ]
  },
  {
   "cell_type": "markdown",
   "id": "02335046",
   "metadata": {},
   "source": [
    "# Visualize TensorRT Result\n",
    "1. copy the ./tensorrt/data/centerpoint/points.bin to <TensorRT root directory\\>/data/centerpoint\n",
    "2. run the <TensorRT root directory\\>/bin/centerpoint to get the tensorrt outputs.\n",
    "3. copy the <TensorRT root directory\\>/data/centerpoint back the CenterPoint/tensorrt/data\n",
    "4. run the following python code to visualiza tensorrt result"
   ]
  },
  {
   "cell_type": "code",
   "execution_count": 12,
   "id": "9e06e5f9",
   "metadata": {},
   "outputs": [],
   "source": [
    "keys = ['reg', 'height', 'dim', 'rot', 'vel', 'hm']\n",
    "trtFiles = glob.glob(\"./tensorrt/data/centerpoint/*\")\n",
    "trt_input = sorted(trtFiles)[:36]\n",
    "\n",
    "trt_pred = []\n",
    "for task in range(6):\n",
    "    task_pred = {}\n",
    "    for idx,key in enumerate(keys):\n",
    "        trt_res = np.fromfile(trt_input[task*6+idx],np.float32).reshape(1,-1,128,128)\n",
    "        task_pred[key] = torch.from_numpy(trt_res).cuda()\n",
    "    trt_pred.append(task_pred)"
   ]
  },
  {
   "cell_type": "code",
   "execution_count": 13,
   "id": "a62ce841",
   "metadata": {},
   "outputs": [],
   "source": [
    "outputs = model.bbox_head.predict(example, trt_pred, model.test_cfg)"
   ]
  },
  {
   "cell_type": "code",
   "execution_count": 14,
   "id": "6707c384",
   "metadata": {},
   "outputs": [
    {
     "name": "stdout",
     "output_type": "stream",
     "text": [
      "Done model inference. Please wait a minute, the matplotlib is a little slow...\n",
      "Rendered Image 0\n"
     ]
    }
   ],
   "source": [
    "gt_annos = [] \n",
    "detections  = []\n",
    "points_list = []\n",
    "cpu_device = torch.device(\"cpu\")\n",
    "i = 0\n",
    "info = dataset._nusc_infos[i]\n",
    "gt_annos.append(convert_box(info))\n",
    "\n",
    "points = data_batch['points'][:, 1:4].cpu().numpy()\n",
    "for output in outputs:\n",
    "    for k, v in output.items():\n",
    "        if k not in [\n",
    "            \"metadata\",\n",
    "        ]:\n",
    "            output[k] = v.to(cpu_device)\n",
    "    detections.append(output)\n",
    "\n",
    "points_list.append(points.T)\n",
    "\n",
    "print('Done model inference. Please wait a minute, the matplotlib is a little slow...')\n",
    "\n",
    "for i in range(len(points_list)):\n",
    "    visual(points_list[i], gt_annos[i], detections[i], i, save_path=\"demo/trt_demo\")\n",
    "    print(\"Rendered Image {}\".format(i))"
   ]
  },
  {
   "cell_type": "code",
   "execution_count": null,
   "id": "c6d00dd2",
   "metadata": {},
   "outputs": [],
   "source": []
  },
  {
   "cell_type": "code",
   "execution_count": null,
   "id": "b080862c",
   "metadata": {},
   "outputs": [],
   "source": []
  },
  {
   "cell_type": "code",
   "execution_count": null,
   "id": "80b7310d",
   "metadata": {
    "scrolled": true
   },
   "outputs": [],
   "source": []
  },
  {
   "cell_type": "code",
   "execution_count": null,
   "id": "c77ad5c6",
   "metadata": {
    "scrolled": true
   },
   "outputs": [],
   "source": []
  },
  {
   "cell_type": "code",
   "execution_count": null,
   "id": "cea0ec16",
   "metadata": {},
   "outputs": [],
   "source": []
  }
 ],
 "metadata": {
  "kernelspec": {
   "display_name": "Python 3",
   "language": "python",
   "name": "python3"
  },
  "language_info": {
   "codemirror_mode": {
    "name": "ipython",
    "version": 3
   },
   "file_extension": ".py",
   "mimetype": "text/x-python",
   "name": "python",
   "nbconvert_exporter": "python",
   "pygments_lexer": "ipython3",
   "version": "3.8.5"
  }
 },
 "nbformat": 4,
 "nbformat_minor": 5
}
